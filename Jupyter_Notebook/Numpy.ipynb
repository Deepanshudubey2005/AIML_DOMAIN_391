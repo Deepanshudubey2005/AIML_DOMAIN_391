{
 "cells": [
  {
   "cell_type": "code",
   "execution_count": 1,
   "id": "d6ab7ae9",
   "metadata": {},
   "outputs": [
    {
     "name": "stdout",
     "output_type": "stream",
     "text": [
      "10\n",
      "[1 2 3 4 5]\n",
      "<class 'numpy.ndarray'>\n",
      "[20.  34.  45.1]\n",
      "[ 68.    93.2  113.18]\n",
      "[[21. 22. 23. 45.]\n",
      " [34. 45. 78. 34.]]\n",
      "(2, 4)\n",
      "8\n",
      "2\n",
      "[[1.+0.j 2.+0.j 3.+0.j]\n",
      " [4.+0.j 5.+0.j 6.+0.j]\n",
      " [1.+0.j 1.+0.j 1.+0.j]\n",
      " [2.+0.j 2.+0.j 2.+0.j]]\n",
      "(4, 3)\n",
      "16\n",
      "2\n"
     ]
    }
   ],
   "source": [
    "a=10\n",
    "print(a)\n",
    "\n",
    "import numpy as np\n",
    "arr = np.array([1,2,3,4,5])\n",
    "print(arr)\n",
    "print(type(arr))\n",
    "cvalues= [20,34,45.1]\n",
    "#conver values  into 1-d array\n",
    "c=np.array(cvalues)\n",
    "print(c)\n",
    "#celsius to fahrenheit\n",
    "print(c*9/5 + 32)\n",
    "array1=np.array([[21,22,23,45],[34,45,78,34]],dtype=float)\n",
    "#Myarray=numpy.array([1,2,3,4])\n",
    "#print array\n",
    "print(array1)\n",
    "print(array1.shape)\n",
    "print(array1.itemsize)\n",
    "print(array1.ndim)\n",
    "import numpy as np\n",
    "threeD=np.array([[1,2,3],[4,5,6],[1,1,1],[2,2,2]],dtype=complex)\n",
    "print(threeD)\n",
    "print(threeD.shape)\n",
    "print(threeD.itemsize)\n",
    "print(threeD.ndim)"
   ]
  }
 ],
 "metadata": {
  "kernelspec": {
   "display_name": "base",
   "language": "python",
   "name": "python3"
  },
  "language_info": {
   "codemirror_mode": {
    "name": "ipython",
    "version": 3
   },
   "file_extension": ".py",
   "mimetype": "text/x-python",
   "name": "python",
   "nbconvert_exporter": "python",
   "pygments_lexer": "ipython3",
   "version": "3.13.5"
  }
 },
 "nbformat": 4,
 "nbformat_minor": 5
}
